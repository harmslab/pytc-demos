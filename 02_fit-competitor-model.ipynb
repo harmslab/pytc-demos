{
 "cells": [
  {
   "cell_type": "markdown",
   "metadata": {},
   "source": [
    "## Fit a competitor binding model to an experiment\n",
    "Fits binding of calcium to EDTA. There is no competitor in the actual experiment, but we can assert competitor is in the cell and syringe (via `C_cell` and `C_syringe`) to test the function."
   ]
  },
  {
   "cell_type": "code",
   "execution_count": 1,
   "metadata": {
    "collapsed": true
   },
   "outputs": [],
   "source": [
    "%matplotlib inline\n",
    "import pytc"
   ]
  },
  {
   "cell_type": "code",
   "execution_count": 2,
   "metadata": {
    "collapsed": false,
    "scrolled": false
   },
   "outputs": [
    {
     "name": "stderr",
     "output_type": "stream",
     "text": [
      "/usr/local/lib/python3.5/dist-packages/pytc_fitter-0.1.0-py3.5.egg/pytc/indiv_models/single_site_competitor.py:74: RuntimeWarning: invalid value encountered in sqrt\n",
      "  theta = np.arccos((-2*alpha**3 + 9*alpha*beta - 27*gamma)/(2*np.sqrt((alpha**2 - 3*beta)**3)))\n",
      "/usr/local/lib/python3.5/dist-packages/pytc_fitter-0.1.0-py3.5.egg/pytc/indiv_models/single_site_competitor.py:74: RuntimeWarning: invalid value encountered in arccos\n",
      "  theta = np.arccos((-2*alpha**3 + 9*alpha*beta - 27*gamma)/(2*np.sqrt((alpha**2 - 3*beta)**3)))\n",
      "/usr/local/lib/python3.5/dist-packages/pytc_fitter-0.1.0-py3.5.egg/pytc/indiv_models/single_site_competitor.py:76: RuntimeWarning: invalid value encountered in sqrt\n",
      "  mol_fx_s = (2*np.sqrt(alpha**2 - 3*beta) * np.cos(theta/3) - alpha)/3\n"
     ]
    },
    {
     "name": "stdout",
     "output_type": "stream",
     "text": [
      "# Fit successful? True\n",
      "# AIC: -32.630203997600326\n",
      "# AICc: -28.539294906691236\n",
      "# BIC: -16.71833162508613\n",
      "# F: 219032.74366543346\n",
      "# Rsq: 0.9999699988626901\n",
      "# Rsq_adjusted: 0.9999654334722299\n",
      "# ln(L): 24.315101998800163\n",
      "# num_obs: 54\n",
      "# num_param: 7\n",
      "# p: 1.1102230246251565e-16\n",
      "type,name,dh_file,value,uncertainty,fixed,guess,lower_bound,upper_bound\n",
      "local,K,ca-edta/tris-01.DH,8.17253e+07,1.65953e-06,float,1.00000e+06,-inf,inf\n",
      "local,dilution_intercept,ca-edta/tris-01.DH,-3.58480e-01,1.65332e-01,float,0.00000e+00,-inf,inf\n",
      "local,dH,ca-edta/tris-01.DH,-1.14920e+04,1.16897e-02,float,-4.00000e+03,-inf,inf\n",
      "local,fx_competent,ca-edta/tris-01.DH,1.08259e+00,4.31456e-02,float,1.00000e+00,-inf,inf\n",
      "local,dilution_heat,ca-edta/tris-01.DH,-2.49708e+02,7.71532e-04,float,0.00000e+00,-inf,inf\n",
      "local,Kcompetitor,ca-edta/tris-01.DH,8.86868e+06,5.47273e-06,float,1.00000e+06,-inf,inf\n",
      "local,dHcompetitor,ca-edta/tris-01.DH,-1.12429e+04,1.15697e-03,float,-4.00000e+03,-inf,inf\n",
      "\n"
     ]
    },
    {
     "name": "stderr",
     "output_type": "stream",
     "text": [
      "/usr/local/lib/python3.5/dist-packages/matplotlib/figure.py:1742: UserWarning: This figure includes Axes that are not compatible with tight_layout, so its results might be incorrect.\n",
      "  warnings.warn(\"This figure includes Axes that are not \"\n"
     ]
    },
    {
     "data": {
      "image/png": "[encoded data removed]",
      "text/plain": [
       "<matplotlib.figure.Figure at 0x7f3f3610b2e8>"
      ]
     },
     "metadata": {},
     "output_type": "display_data"
    }
   ],
   "source": [
    "# --------------------------------------------------------------------\n",
    "# Create a global fitting instance\n",
    "g = pytc.GlobalFit()\n",
    "\n",
    "# --------------------------------------------------------------------\n",
    "# Load in an experimental data set with a single site competitor model,\n",
    "# with fake 10 uM competitor in the cell and syringe.\n",
    "a = pytc.ITCExperiment(\"ca-edta/tris-01.DH\",pytc.indiv_models.SingleSiteCompetitor,C_cell=1e-5,C_syringe=1e-5,shot_start=2)\n",
    "# Add the experiment to the fitter\n",
    "g.add_experiment(a)\n",
    "\n",
    "# --------------------------------------------------------------------\n",
    "# Fit the data\n",
    "g.fit()\n",
    "\n",
    "# --------------------------------------------------------------------\n",
    "# Show the results\n",
    "fig, ax = g.plot()\n",
    "print(g.fit_as_csv)\n"
   ]
  },
  {
   "cell_type": "code",
   "execution_count": null,
   "metadata": {
    "collapsed": true
   },
   "outputs": [],
   "source": []
  }
 ],
 "metadata": {
  "kernelspec": {
   "display_name": "Python 3",
   "language": "python",
   "name": "python3"
  },
  "language_info": {
   "codemirror_mode": {
    "name": "ipython",
    "version": 3
   },
   "file_extension": ".py",
   "mimetype": "text/x-python",
   "name": "python",
   "nbconvert_exporter": "python",
   "pygments_lexer": "ipython3",
   "version": "3.5.2"
  }
 },
 "nbformat": 4,
 "nbformat_minor": 1
}
