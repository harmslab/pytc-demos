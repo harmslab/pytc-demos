{
 "cells": [
  {
   "cell_type": "markdown",
   "metadata": {},
   "source": [
    "## Implement a global connector for number of protons vs. ionization enthalpy\n",
    "\n",
    "Rules for new connectors:\n",
    "\n",
    "+ It must be a subclass of pytc.global_models.GlobalConnector.\n",
    "+ It must define param_guesses in the class namespace (i.e. at the top of the class definition.) This should have reasonable guesses for the parameters.\n",
    "+ It must define required_data in the class namespace (i.e. at the top of the class definition.) These are strings that name the attributes of experiment that are required to do the calculation.\n",
    "+ It must define output methods (like dH) that:\n",
    "    + take only self and experiment as arguments.\n",
    "    + use the parameters specified in param_guesses as attributes of self (e.g. self.dH_intrinsic above).\n",
    "    + access any required information about the experiment from the experiment object.\n",
    "+ There is no limit to the number of parameters, required data, or output methods.\n",
    "\n",
    "Full docs:\n",
    "\n",
    "https://pytc.readthedocs.io/en/latest/writing_new_models.html"
   ]
  },
  {
   "cell_type": "code",
   "execution_count": 1,
   "metadata": {
    "collapsed": true
   },
   "outputs": [],
   "source": [
    "%matplotlib inline\n",
    "import pytc"
   ]
  },
  {
   "cell_type": "code",
   "execution_count": 2,
   "metadata": {
    "collapsed": false
   },
   "outputs": [
    {
     "name": "stderr",
     "output_type": "stream",
     "text": [
      "/usr/local/lib/python3.5/dist-packages/pytc_fitter-0.1.0-py3.5.egg/pytc/indiv_models/single_site.py:32: RuntimeWarning: invalid value encountered in sqrt\n",
      "  ST = (b - np.sqrt((b)**2 - 4*S_conc_corr*self._T_conc))/2\n"
     ]
    },
    {
     "name": "stdout",
     "output_type": "stream",
     "text": [
      "# Fit successful? True\n",
      "# AIC: -87.39090294260919\n",
      "# AICc: -84.1066924162934\n",
      "# BIC: -57.887459444242765\n",
      "# F: 295081.12408098724\n",
      "# Rsq: 0.9999671287644062\n",
      "# Rsq_adjusted: 0.9999637399772315\n",
      "# ln(L): 54.695451471304594\n",
      "# num_obs: 108\n",
      "# num_param: 10\n",
      "# p: 1.1102230246251565e-16\n",
      "type,name,dh_file,value,uncertainty,fixed,guess,lower_bound,upper_bound\n",
      "global,np_dH_intrinsic,NA,-4.63533e+02,1.08232e-02,float,0.00000e+00,-inf,inf\n",
      "global,np_num_H,NA,-9.79066e-01,1.01282e+00,float,1.00000e-01,-inf,inf\n",
      "local,dilution_intercept,ca-edta/tris-01.DH,-6.12663e-01,0.00000e+00,float,0.00000e+00,-inf,inf\n",
      "local,fx_competent,ca-edta/tris-01.DH,9.73948e-01,0.00000e+00,float,1.00000e+00,-inf,inf\n",
      "local,K,ca-edta/tris-01.DH,4.05475e+07,0.00000e+00,float,1.00000e+06,-inf,inf\n",
      "local,dilution_heat,ca-edta/tris-01.DH,1.15710e+03,0.00000e+00,float,0.00000e+00,-inf,inf\n",
      "local,dilution_intercept,ca-edta/imid-01.DH,-1.86994e-01,1.53080e-01,float,0.00000e+00,-inf,inf\n",
      "local,fx_competent,ca-edta/imid-01.DH,9.85125e-01,2.50605e-02,float,1.00000e+00,-inf,inf\n",
      "local,K,ca-edta/imid-01.DH,5.20888e+07,2.32689e-06,float,1.00000e+06,-inf,inf\n",
      "local,dilution_heat,ca-edta/imid-01.DH,-9.45076e+02,6.54816e-04,float,0.00000e+00,-inf,inf\n",
      "\n"
     ]
    },
    {
     "name": "stderr",
     "output_type": "stream",
     "text": [
      "/usr/local/lib/python3.5/dist-packages/matplotlib/figure.py:1742: UserWarning: This figure includes Axes that are not compatible with tight_layout, so its results might be incorrect.\n",
      "  warnings.warn(\"This figure includes Axes that are not \"\n"
     ]
    },
    {
     "data": {
      "image/png": "[encoded data removed]",
      "text/plain": [
       "<matplotlib.figure.Figure at 0x7fef76dcc780>"
      ]
     },
     "metadata": {},
     "output_type": "display_data"
    }
   ],
   "source": [
    "# --------------------------------------------------------------------\n",
    "# define buffer ionization enthalpies.\n",
    "# goldberg et al (2002) Journal of Physical and Chemical Reference Data 31 231,  doi: 10.1063/1.1416902\n",
    "TRIS_IONIZATION_DH = 47.45/4.184*1000\n",
    "IMID_IONIZATION_DH = 36.64/4.184*1000 \n",
    "\n",
    "class MyNumProtons(pytc.GlobalConnector):\n",
    "    param_guesses = {\"num_H\":0.1,\"dH_intrinsic\":0.0}\n",
    "    required_data = [\"ionization_enthalpy\"]\n",
    "    \n",
    "    def dH(self,experiment):\n",
    "\n",
    "        return self.dH_intrinsic + self.num_H*experiment.ionization_enthalpy\n",
    "\n",
    "\n",
    "# --------------------------------------------------------------------\n",
    "# Create a global fitting instance\n",
    "g = pytc.GlobalFit()\n",
    "num_protons = MyNumProtons(\"np\")\n",
    "\n",
    "# ------------------------------------------------------------------------------------\n",
    "# Tris buffer experiment\n",
    "\n",
    "tris = pytc.ITCExperiment(\"ca-edta/tris-01.DH\",pytc.indiv_models.SingleSite,shot_start=2)\n",
    "tris.ionization_enthalpy = TRIS_IONIZATION_DH\n",
    "\n",
    "g.add_experiment(tris)\n",
    "g.link_to_global(tris,\"dH\",num_protons.dH)\n",
    "\n",
    "# ------------------------------------------------------------------------------------\n",
    "# Imidazole buffer experiment\n",
    "\n",
    "imid = pytc.ITCExperiment(\"ca-edta/imid-01.DH\",pytc.indiv_models.SingleSite,shot_start=2)\n",
    "imid.ionization_enthalpy = IMID_IONIZATION_DH\n",
    "\n",
    "g.add_experiment(imid)\n",
    "g.link_to_global(imid,\"dH\",num_protons.dH)\n",
    "\n",
    "# --------------------------------------------------------------------\n",
    "# Do a global fit\n",
    "g.fit()\n",
    "\n",
    "# Show the results\n",
    "fig, ax = g.plot()\n",
    "print(g.fit_as_csv)"
   ]
  },
  {
   "cell_type": "code",
   "execution_count": null,
   "metadata": {
    "collapsed": true
   },
   "outputs": [],
   "source": []
  }
 ],
 "metadata": {
  "kernelspec": {
   "display_name": "Python 3",
   "language": "python",
   "name": "python3"
  },
  "language_info": {
   "codemirror_mode": {
    "name": "ipython",
    "version": 3
   },
   "file_extension": ".py",
   "mimetype": "text/x-python",
   "name": "python",
   "nbconvert_exporter": "python",
   "pygments_lexer": "ipython3",
   "version": "3.5.2"
  }
 },
 "nbformat": 4,
 "nbformat_minor": 1
}
