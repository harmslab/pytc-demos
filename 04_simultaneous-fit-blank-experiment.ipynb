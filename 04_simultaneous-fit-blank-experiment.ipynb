{
 "cells": [
  {
   "cell_type": "markdown",
   "metadata": {},
   "source": [
    "## Fit a single-site model to an experiment and blank titration simultaneously\n",
    "Fits binding of calcium onto EDTA. "
   ]
  },
  {
   "cell_type": "code",
   "execution_count": 1,
   "metadata": {
    "collapsed": true
   },
   "outputs": [],
   "source": [
    "%matplotlib inline\n",
    "import pytc"
   ]
  },
  {
   "cell_type": "code",
   "execution_count": 2,
   "metadata": {
    "collapsed": false,
    "scrolled": false
   },
   "outputs": [
    {
     "name": "stdout",
     "output_type": "stream",
     "text": [
      "# Fit successful? True\n",
      "# AIC: -106.66471175483758\n",
      "# AICc: -105.44732045048976\n",
      "# BIC: -91.03369063890904\n",
      "# F: 639862.8061592504\n",
      "# Rsq: 0.9999706195649023\n",
      "# Rsq_adjusted: 0.9999690567758014\n",
      "# ln(L): 59.33235587741879\n",
      "# num_obs: 100\n",
      "# num_param: 5\n",
      "# p: 1.1102230246251565e-16\n",
      "type,name,dh_file,value,uncertainty,fixed,guess,lower_bound,upper_bound\n",
      "global,global_heat,NA,-4.81346e+02,4.61069e-04,float,0.00000e+00,-inf,inf\n",
      "global,global_intercept,NA,-3.01160e-01,1.37159e-01,float,0.00000e+00,-inf,inf\n",
      "local,K,ca-edta/tris-01.DH,3.93751e+07,3.15106e-06,float,1.00000e+06,-inf,inf\n",
      "local,dH,ca-edta/tris-01.DH,-1.16161e+04,9.69669e-03,float,-4.00000e+03,-inf,inf\n",
      "local,fx_competent,ca-edta/tris-01.DH,9.74053e-01,2.72441e-02,float,1.00000e+00,-inf,inf\n",
      "\n"
     ]
    },
    {
     "name": "stderr",
     "output_type": "stream",
     "text": [
      "/usr/local/lib/python3.5/dist-packages/matplotlib/figure.py:1742: UserWarning: This figure includes Axes that are not compatible with tight_layout, so its results might be incorrect.\n",
      "  warnings.warn(\"This figure includes Axes that are not \"\n"
     ]
    },
    {
     "data": {
      "image/png": "[encoded data removed]",
      "text/plain": [
       "<matplotlib.figure.Figure at 0x7fdbb5997f28>"
      ]
     },
     "metadata": {},
     "output_type": "display_data"
    }
   ],
   "source": [
    "# --------------------------------------------------------------------\n",
    "# Create a global fitting instance\n",
    "g = pytc.GlobalFit()\n",
    "\n",
    "# --------------------------------------------------------------------\n",
    "# Load in an experimental data set with a single-site binding model\n",
    "a = pytc.ITCExperiment(\"ca-edta/tris-01.DH\",pytc.indiv_models.SingleSite,shot_start=2)\n",
    "\n",
    "# Add the experiment to the fitter.  Then link the dilution heat and\n",
    "# intercept to global parameters\n",
    "g.add_experiment(a)\n",
    "g.link_to_global(a,\"dilution_heat\",\"global_heat\")\n",
    "g.link_to_global(a,\"dilution_intercept\",\"global_intercept\")\n",
    "\n",
    "# --------------------------------------------------------------------\n",
    "# Load in a blank titration\n",
    "b = pytc.ITCExperiment(\"ca-edta/tris-blank.DH\",pytc.indiv_models.Blank,shot_start=10)\n",
    "\n",
    "# Add a blank titration to the fitter. Then link the dilution heat and\n",
    "# intercept to global parameters\n",
    "g.add_experiment(b)\n",
    "g.link_to_global(b,\"dilution_heat\",\"global_heat\")\n",
    "g.link_to_global(b,\"dilution_intercept\",\"global_intercept\")\n",
    "\n",
    "# --------------------------------------------------------------------\n",
    "# Do a global fit to the single-site and blank titrations\n",
    "g.fit()\n",
    "\n",
    "# --------------------------------------------------------------------\n",
    "# Show the results\n",
    "fig, ax = g.plot()\n",
    "print(g.fit_as_csv)\n"
   ]
  },
  {
   "cell_type": "code",
   "execution_count": null,
   "metadata": {
    "collapsed": true
   },
   "outputs": [],
   "source": []
  }
 ],
 "metadata": {
  "kernelspec": {
   "display_name": "Python 3",
   "language": "python",
   "name": "python3"
  },
  "language_info": {
   "codemirror_mode": {
    "name": "ipython",
    "version": 3
   },
   "file_extension": ".py",
   "mimetype": "text/x-python",
   "name": "python",
   "nbconvert_exporter": "python",
   "pygments_lexer": "ipython3",
   "version": "3.5.2"
  }
 },
 "nbformat": 4,
 "nbformat_minor": 1
}
