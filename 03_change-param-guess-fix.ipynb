{
 "cells": [
  {
   "cell_type": "markdown",
   "metadata": {},
   "source": [
    "## Change parameter bounds and guesses.  Fix a parameter value.\n",
    "Fits binding of calcium onto EDTA. This will be a bad fit because we constrained the values to the wrong values."
   ]
  },
  {
   "cell_type": "code",
   "execution_count": 1,
   "metadata": {
    "collapsed": true
   },
   "outputs": [],
   "source": [
    "%matplotlib inline\n",
    "import pytc"
   ]
  },
  {
   "cell_type": "code",
   "execution_count": 2,
   "metadata": {
    "collapsed": false
   },
   "outputs": [
    {
     "name": "stdout",
     "output_type": "stream",
     "text": [
      "# Fit successful? True\n",
      "# AIC: 270.2406337771019\n",
      "# AICc: 272.02786781965506\n",
      "# BIC: 280.1855540099233\n",
      "# F: 1327.1417522908107\n",
      "# Rsq: 0.9908540574713021\n",
      "# Rsq_adjusted: 0.990107449917939\n",
      "# ln(L): -130.12031688855095\n",
      "# num_obs: 54\n",
      "# num_param: 4\n",
      "# p: 1.1102230246251565e-16\n",
      "type,name,dh_file,value,uncertainty,fixed,guess,lower_bound,upper_bound\n",
      "local,dH,ca-edta/tris-01.DH,-1.19075e+04,1.97830e-01,float,-4.00000e+03,-inf,inf\n",
      "local,dilution_intercept,ca-edta/tris-01.DH,2.20846e+00,2.79876e+00,float,0.00000e+00,-inf,inf\n",
      "local,dilution_heat,ca-edta/tris-01.DH,-1.25968e+04,1.07690e-02,float,0.00000e+00,-inf,inf\n",
      "local,K,ca-edta/tris-01.DH,1.69720e+07,1.36163e-04,float,1.00000e+03,1.00000e+00,1.00000e+12\n",
      "local,fx_competent,ca-edta/tris-01.DH,1.00000e+00,0.00000e+00,fixed,1.00000e+00,-inf,inf\n",
      "\n"
     ]
    },
    {
     "name": "stderr",
     "output_type": "stream",
     "text": [
      "/usr/local/lib/python3.5/dist-packages/matplotlib/figure.py:1742: UserWarning: This figure includes Axes that are not compatible with tight_layout, so its results might be incorrect.\n",
      "  warnings.warn(\"This figure includes Axes that are not \"\n"
     ]
    },
    {
     "data": {
      "image/png": "[encoded data removed]",
      "text/plain": [
       "<matplotlib.figure.Figure at 0x7fe2fbd647b8>"
      ]
     },
     "metadata": {},
     "output_type": "display_data"
    }
   ],
   "source": [
    "# --------------------------------------------------------------------\n",
    "# Create a global fitting instance\n",
    "g = pytc.GlobalFit()\n",
    "\n",
    "# --------------------------------------------------------------------\n",
    "# Load in an experimental data set with a single-site binding model\n",
    "a = pytc.ITCExperiment(\"ca-edta/tris-01.DH\",pytc.indiv_models.SingleSite,shot_start=2)\n",
    "\n",
    "# Add the experiment to the fitter\n",
    "g.add_experiment(a)\n",
    "\n",
    "# Update bounds and guess for \"K\".  Then fix fx_competent.  \n",
    "g.update_bounds(\"K\",(1,1e12),a)\n",
    "g.update_guess(\"K\",1000,a)\n",
    "g.update_fixed(\"fx_competent\",1.0,a)\n",
    "\n",
    "# --------------------------------------------------------------------\n",
    "# Fit the data\n",
    "g.fit()\n",
    "\n",
    "# --------------------------------------------------------------------\n",
    "# Show the results\n",
    "fig, ax = g.plot()\n",
    "print(g.fit_as_csv)"
   ]
  },
  {
   "cell_type": "code",
   "execution_count": null,
   "metadata": {
    "collapsed": true
   },
   "outputs": [],
   "source": []
  }
 ],
 "metadata": {
  "kernelspec": {
   "display_name": "Python 3",
   "language": "python",
   "name": "python3"
  },
  "language_info": {
   "codemirror_mode": {
    "name": "ipython",
    "version": 3
   },
   "file_extension": ".py",
   "mimetype": "text/x-python",
   "name": "python",
   "nbconvert_exporter": "python",
   "pygments_lexer": "ipython3",
   "version": "3.5.2"
  }
 },
 "nbformat": 4,
 "nbformat_minor": 1
}
