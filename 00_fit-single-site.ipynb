{
 "cells": [
  {
   "cell_type": "markdown",
   "metadata": {},
   "source": [
    "# Fit a single-site model to an experiment\n",
    "Fits binding of calcium onto EDTA. "
   ]
  },
  {
   "cell_type": "code",
   "execution_count": 1,
   "metadata": {
    "collapsed": true
   },
   "outputs": [],
   "source": [
    "%matplotlib inline\n",
    "import pytc"
   ]
  },
  {
   "cell_type": "code",
   "execution_count": 2,
   "metadata": {
    "collapsed": false,
    "scrolled": false
   },
   "outputs": [
    {
     "name": "stdout",
     "output_type": "stream",
     "text": [
      "# Fit successful? True\n",
      "# AIC: -31.82021441338682\n",
      "# AICc: -29.38543180469117\n",
      "# BIC: -19.886310134001175\n",
      "# F: 292708.2585502638\n",
      "# Rsq: 0.9999672039142145\n",
      "# Rsq_adjusted: 0.9999637876552785\n",
      "# ln(L): 21.91010720669341\n",
      "# num_obs: 54\n",
      "# num_param: 5\n",
      "# p: 1.1102230246251565e-16\n",
      "type,name,dh_file,value,uncertainty,fixed,guess,lower_bound,upper_bound\n",
      "local,dH,ca-edta/tris-01.DH,-1.15669e+04,1.19692e-02,float,-4.00000e+03,-inf,inf\n",
      "local,fx_competent,ca-edta/tris-01.DH,9.73948e-01,3.30663e-02,float,1.00000e+00,-inf,inf\n",
      "local,dilution_heat,ca-edta/tris-01.DH,1.15712e+03,6.51412e-04,float,0.00000e+00,-inf,inf\n",
      "local,dilution_intercept,ca-edta/tris-01.DH,-6.12666e-01,1.69297e-01,float,0.00000e+00,-inf,inf\n",
      "local,K,ca-edta/tris-01.DH,4.05476e+07,3.44991e-06,float,1.00000e+06,-inf,inf\n",
      "\n"
     ]
    },
    {
     "name": "stderr",
     "output_type": "stream",
     "text": [
      "/usr/local/lib/python3.5/dist-packages/matplotlib/figure.py:1742: UserWarning: This figure includes Axes that are not compatible with tight_layout, so its results might be incorrect.\n",
      "  warnings.warn(\"This figure includes Axes that are not \"\n"
     ]
    },
    {
     "data": {
      "image/png": "[encoded data removed]",
      "text/plain": [
       "<matplotlib.figure.Figure at 0x7f12c3caa208>"
      ]
     },
     "metadata": {},
     "output_type": "display_data"
    }
   ],
   "source": [
    "# --------------------------------------------------------------------\n",
    "# Create a global fitting instance\n",
    "g = pytc.GlobalFit()\n",
    "\n",
    "# --------------------------------------------------------------------\n",
    "# Load in an experimental data set with a single-site binding model.  Ignore the first two shots\n",
    "a = pytc.ITCExperiment(\"ca-edta/tris-01.DH\",pytc.indiv_models.SingleSite,shot_start=2)\n",
    "\n",
    "# Add the experiment to the fitter\n",
    "g.add_experiment(a)\n",
    "\n",
    "# --------------------------------------------------------------------\n",
    "# Fit the data\n",
    "g.fit()\n",
    "\n",
    "# --------------------------------------------------------------------\n",
    "# Show the results\n",
    "fig, ax = g.plot()\n",
    "print(g.fit_as_csv)"
   ]
  },
  {
   "cell_type": "code",
   "execution_count": null,
   "metadata": {
    "collapsed": true
   },
   "outputs": [],
   "source": []
  }
 ],
 "metadata": {
  "kernelspec": {
   "display_name": "Python 3",
   "language": "python",
   "name": "python3"
  },
  "language_info": {
   "codemirror_mode": {
    "name": "ipython",
    "version": 3
   },
   "file_extension": ".py",
   "mimetype": "text/x-python",
   "name": "python",
   "nbconvert_exporter": "python",
   "pygments_lexer": "ipython3",
   "version": "3.5.2"
  }
 },
 "nbformat": 4,
 "nbformat_minor": 1
}
