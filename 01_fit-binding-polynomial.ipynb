{
 "cells": [
  {
   "cell_type": "markdown",
   "metadata": {},
   "source": [
    "# Fit a binding-polynomial to an experiment\n",
    "Fits binding of calcium onto EDTA. "
   ]
  },
  {
   "cell_type": "code",
   "execution_count": 1,
   "metadata": {
    "collapsed": true
   },
   "outputs": [],
   "source": [
    "%matplotlib inline\n",
    "import pytc"
   ]
  },
  {
   "cell_type": "code",
   "execution_count": 2,
   "metadata": {
    "collapsed": false,
    "scrolled": false
   },
   "outputs": [
    {
     "name": "stdout",
     "output_type": "stream",
     "text": [
      "# Fit successful? True\n",
      "# AIC: -32.11711704379702\n",
      "# AICc: -29.68233443510137\n",
      "# BIC: -20.183212764411376\n",
      "# F: 294322.1115029892\n",
      "# Rsq: 0.9999673837387419\n",
      "# Rsq_adjusted: 0.9999639862115276\n",
      "# ln(L): 22.05855852189851\n",
      "# num_obs: 54\n",
      "# num_param: 5\n",
      "# p: 1.1102230246251565e-16\n",
      "type,name,dh_file,value,uncertainty,fixed,guess,lower_bound,upper_bound\n",
      "local,beta1,ca-edta/tris-01.DH,4.04190e+07,3.67343e-06,float,1.00000e+07,-inf,inf\n",
      "local,dH1,ca-edta/tris-01.DH,-1.15687e+04,1.19373e-02,float,-4.00000e+03,-inf,inf\n",
      "local,fx_competent,ca-edta/tris-01.DH,9.73949e-01,5.84251e-02,float,1.00000e+00,-inf,inf\n",
      "local,dilution_heat,ca-edta/tris-01.DH,1.08484e+03,6.49625e-04,float,0.00000e+00,-inf,inf\n",
      "local,dilution_intercept,ca-edta/tris-01.DH,-6.01701e-01,1.68832e-01,float,0.00000e+00,-inf,inf\n",
      "\n"
     ]
    },
    {
     "name": "stderr",
     "output_type": "stream",
     "text": [
      "/usr/local/lib/python3.5/dist-packages/matplotlib/figure.py:1742: UserWarning: This figure includes Axes that are not compatible with tight_layout, so its results might be incorrect.\n",
      "  warnings.warn(\"This figure includes Axes that are not \"\n"
     ]
    },
    {
     "data": {
      "image/png": "[encoded data removed]",
      "text/plain": [
       "<matplotlib.figure.Figure at 0x7f2e269e8710>"
      ]
     },
     "metadata": {},
     "output_type": "display_data"
    }
   ],
   "source": [
    "# --------------------------------------------------------------------\n",
    "# Create a global fitting instance\n",
    "g = pytc.GlobalFit()\n",
    "\n",
    "# --------------------------------------------------------------------\n",
    "# Load in an experimental data set with a single-site binding polynomial model\n",
    "a = pytc.ITCExperiment(\"ca-edta/tris-01.DH\",pytc.indiv_models.BindingPolynomial,num_sites=1,shot_start=2)\n",
    "# Add the experiment to the fitter\n",
    "g.add_experiment(a)\n",
    "g.update_guess(\"beta1\",1e7,a)\n",
    "\n",
    "# --------------------------------------------------------------------\n",
    "# Fit the data\n",
    "g.fit()\n",
    "\n",
    "# --------------------------------------------------------------------\n",
    "# Show the results\n",
    "fig, ax = g.plot()\n",
    "print(g.fit_as_csv)\n"
   ]
  },
  {
   "cell_type": "code",
   "execution_count": null,
   "metadata": {
    "collapsed": true
   },
   "outputs": [],
   "source": []
  }
 ],
 "metadata": {
  "kernelspec": {
   "display_name": "Python 3",
   "language": "python",
   "name": "python3"
  },
  "language_info": {
   "codemirror_mode": {
    "name": "ipython",
    "version": 3
   },
   "file_extension": ".py",
   "mimetype": "text/x-python",
   "name": "python",
   "nbconvert_exporter": "python",
   "pygments_lexer": "ipython3",
   "version": "3.5.2"
  }
 },
 "nbformat": 4,
 "nbformat_minor": 1
}
